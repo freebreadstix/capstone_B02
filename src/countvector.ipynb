{
 "cells": [
  {
   "cell_type": "code",
   "execution_count": 8,
   "id": "cc05b9d4",
   "metadata": {},
   "outputs": [
    {
     "name": "stderr",
     "output_type": "stream",
     "text": [
      "[nltk_data] Downloading package stopwords to\n",
      "[nltk_data]     /home/mhalvax/nltk_data...\n",
      "[nltk_data]   Package stopwords is already up-to-date!\n",
      "[nltk_data] Downloading package punkt to /home/mhalvax/nltk_data...\n",
      "[nltk_data]   Package punkt is already up-to-date!\n"
     ]
    }
   ],
   "source": [
    "import re\n",
    "import string\n",
    "import pickle\n",
    "import numpy as np\n",
    "import pandas as pd\n",
    "import seaborn as sns\n",
    "import matplotlib.pyplot as plt\n",
    "\n",
    "import nltk\n",
    "from nltk.corpus import stopwords\n",
    "from nltk.stem import PorterStemmer\n",
    "from nltk.tokenize import TweetTokenizer\n",
    "\n",
    "import wandb\n",
    "from wandb.keras import WandbCallback\n",
    "\n",
    "from sklearn.model_selection import train_test_split, GridSearchCV\n",
    "from sklearn.feature_extraction.text import CountVectorizer, TfidfVectorizer\n",
    "from sklearn.naive_bayes import MultinomialNB\n",
    "from sklearn.linear_model import LogisticRegression\n",
    "from sklearn.svm import SVC\n",
    "from sklearn.tree import DecisionTreeClassifier\n",
    "from sklearn.ensemble import RandomForestClassifier, StackingClassifier\n",
    "from sklearn.metrics import accuracy_score, precision_score, recall_score, confusion_matrix, classification_report\n",
    "\n",
    "import tensorflow as tf\n",
    "from tensorflow.keras import activations\n",
    "from tensorflow.keras.models import Sequential\n",
    "from tensorflow.keras.preprocessing.text import one_hot, hashing_trick, text_to_word_sequence\n",
    "from tensorflow.keras.preprocessing.sequence import pad_sequences\n",
    "from tensorflow.keras.layers import Embedding, Dense, Activation, LSTM, Bidirectional, Conv1D, GlobalMaxPooling1D, MaxPooling1D, Dropout\n",
    "from keras.backend import clear_session\n",
    "from tensorflow.keras.callbacks import EarlyStopping, ModelCheckpoint\n",
    "\n",
    "from util import load_data, preprocessing, confusion_matrix_plot, evaluate, get_vocab_size, create_token2id, one_hot_text, get_verdict, get_verdict_with_token2id\n"
   ]
  },
  {
   "cell_type": "code",
   "execution_count": 9,
   "id": "0d94653b",
   "metadata": {},
   "outputs": [],
   "source": [
    "df = pd.read_csv(\"cleaned data - Sheet1.csv\")\n",
    "simple_df = df[[\"Original article text\", \"Verdict\"]]"
   ]
  },
  {
   "cell_type": "code",
   "execution_count": 10,
   "id": "42c3265b",
   "metadata": {},
   "outputs": [],
   "source": [
    "X = df[\"Original article text\"].values\n",
    "y = df[\"Verdict\"].replace(\"FALSE\",1).replace(\"TRUE\",0).values"
   ]
  },
  {
   "cell_type": "code",
   "execution_count": 11,
   "id": "d1e9469c",
   "metadata": {},
   "outputs": [
    {
     "name": "stdout",
     "output_type": "stream",
     "text": [
      "Before: SAN JUAN, PUERTO RICO — When things went bad during Hurricane Maria, they went bad all at once, across this entire island. Suddenly, everything was dysfunctional, including the power grid, the cellphone towers, the banking system. Even the disaster managers, the professionals in charge of responding to hurricanes, were forced to evacuate the buildings where they had sheltered during the powerful storm.\n",
      "\n",
      "They shifted operations to the convention center here, an improvised maneuver that was just one of the reasons the government struggled to meet the challenges Maria presented. They were in the dark. The island’s residents were in the dark. No one knew the extent of what had happened — or what was happening — for days.\n",
      "\n",
      "“Everything collapsed,” said Héctor Pesquera, the Puerto Rico governor’s director of safety and public protection. “Everything collapsed simultaneously.”\n",
      "\n",
      "Nearly two weeks after Maria caused a historic catastrophe and thrust Puerto Rico into a humanitarian crisis, President Trump on Tuesday is scheduled to make his first visit to the island since the storm hit on Sept. 20.\n",
      "\n",
      "Trump is expected to meet with Gov. Ricardo Rosselló, who has repeatedly expressed appreciation for federal support from Washington. It is unclear whether Trump will encounter San Juan Mayor Carmen Yulín Cruz, who has sharply criticized the federal effort, saying that Puerto Ricans are dying while the nation’s bureaucracy stumbles.\n",
      "\n",
      "Trump has tweeted attacks on Cruz’s leadership, and the president has repeatedly said that stories highlighting the slow response to the crisis are fake news.\n",
      "\n",
      "Watch aerial views of damaged Guajataca dam in Puerto Rico\n",
      "The Guajataca dam, in Northwest Puerto Rico, sustained damage from Hurricane Maria prompting authorities to issue evacuation orders for those living downstream. (Hector Santos Guia, Whitney Leaming/The Washington Post)\n",
      "That view was echoed, if in a more subtle way, by the Federal Emergency Management Agency’s administrator on Monday after he flew to the island and, as he told reporters, saw signs of civic vibrancy in San Juan. William “Brock” Long said he managed to get a cellphone signal when he was 20 minutes outside the capital and heading to a remote area.\n",
      "\n",
      "“As we were going down the road, I saw numerous fuel trucks with security, I saw numerous water trucks with security,” he said. “I saw a lot of resilient Puerto Ricans. I saw neighbors helping neighbors. I didn’t see anybody in a life-threatening situation at all.”\n",
      "\n",
      "[Trapped in the mountains, Puerto Ricans don’t see help, or a way out]\n",
      "\n",
      "The statutory requirements and protocols of disaster management are complex. The Defense Department has authority to send some of its assets where it sees fit, and in the case of Hurricane Maria did not initially deploy as many ships, sailors and soldiers as it could have. But the Defense Department is supposed to support, and follow the guidance of, FEMA. FEMA, in turn, is supposed to support the local and state (and in this case, territory) government.\n",
      "\n",
      "Political sensitivities enter the calculation — with governors invariably wanting to show command and control — as was the case with Rosselló, who on Thursday took pains to say that the government of Puerto Rico is fully in charge of the Maria disaster response.\n",
      "\n",
      "“The last thing a political leader wants to admit is that the problem is beyond their control,” said retired Coast Guard Adm. Thad Allen, who played a critical role in the federal responses to Hurricane Katrina and the 2010 oil spill in the Gulf of Mexico. “There has to be a frank, unvarnished conversation about the scope of the problem and how to deal with it. It is politically hard but operationally essential.”\n",
      "\n",
      "\n",
      "Cars in Vega Alta pass power-line poles downed by Hurricane Maria. (Ricardo Arduengo/AFP/Getty Images)\n",
      "Even before Maria, Puerto Rico had been hobbling along economically amid a financial crisis and at the same time convulsing politically. Now comes the longer-term question of whether the island can rebuild its economy and stave off wholesale flight of its residents to the mainland.\n",
      "\n",
      "Rosselló, trying to steer attention toward the broader issues facing Puerto Rico, said on Sunday: “I invite you to reflect on why Puerto Rico is in the current state of disadvantage and inequality. It’s not something that happened just a few months or few weeks before this storm. It is a condition that has happened for more than a century in Puerto Rico. . . . I invite you to reflect on the reality that even after the storm hit Puerto Rico, even when it was evident that it was a disaster in the United States, only half of our U.S. citizens knew that Puerto Ricans were U.S. citizens.”\n",
      "\n",
      "Roselló and other officials have not denied that the government struggled to provide food, water, medicine and fuel in the wake of Maria, but they have pointed to the challenges of being an island 1,000 miles from the mainland, as well as the communication breakdowns they experienced.\n",
      "\n",
      "The scale of the disaster became clear only when mayors from across the island arrived in San Juan on Sept. 23, three days after the storm, for a meeting at the convention center at which they delivered dire reports in person. The U.S. government did not ramp up all of its capabilities until six days had passed. Last Tuesday, the Pentagon dispatched an Army one-star general to the island and then quickly elevated that command by sending in a three-star general.\n",
      "\n",
      "[‘If anyone can hear us . . . help.’ Puerto Rico’s mayors describe widespread devastation from Hurricane Maria]\n",
      "\n",
      "“Every day we get more and more situational awareness,” said John Rabin, the acting administrator for the FEMA division that oversees Puerto Rico. “As soon as we recognized there was a need for more resources and more capability, we ordered up that proverbial bigger boat.”\n",
      "\n",
      "Asked if the response was slow, he went silent for a few beats.\n",
      "\n",
      "“It’s not that it was ‘slow’; it’s ‘complex,’ is the way I would describe it,” Rabin said.\n",
      "\n",
      "He cited one example of the way the response is evolving: FEMA and the Puerto Rico emergency managers sent relief supplies to 11 locations around the island. But the lack of communication meant that many people were not showing up for the supplies. Officials since have been using military helicopters to carry aid to rural locations.\n",
      "\n",
      "The difficulty in responding to Maria has revealed how unique each disaster is — and how resistant to a one-size-fits-all approach. Hurricane Harvey, for example, created a flooding disaster in Houston and other cities in southern Texas, and thousands of people had to be rescued from their homes, often by civilians using private boats.\n",
      "\n",
      "Isolated by Hurricane Maria, Utuado's residents seek help, and a way out\n",
      "Residents of Puerto Rico's municipality of Utuado are trapped by landslides and broken roads after Hurricane Maria. (Video: Ashleigh Joplin, Whitney Leaming, Zoeann Murphy/Photo: Michael Robinson Chavez/The Washington Post)\n",
      "For Maria, numerous Coast Guard and FEMA urban-search-and-rescue teams were on hand or arrived quickly. But it soon became clear that what people needed most were life-sustaining provisions — including water, food and diesel fuel for generators — that the search-and-rescue teams didn’t have.\n",
      "\n",
      "Senior officials in the Pentagon debated sending additional assistance in the first few days after the storm, including deploying a 1,000-bed hospital ship, the USNS Comfort, under their own authority. They decided instead to fill requests from the Puerto Rico government to send a couple of 50-bed hospital units that could be set up on shore.\n",
      "\n",
      "Long visited Puerto Rico last Monday, and afterward the Pentagon’s effort changed. The next day Long appeared at the White House and announced the deployment of the Comfort.\n",
      "\n",
      "Several U.S. military officials with knowledge of Puerto Rico operations said afterward that they hadn’t known about the ship’s deployment. The Comfort was not yet ready to sail.\n",
      "\n",
      "Military officials said they have filled every request they have received in a timely fashion. The Navy had two amphibious combat ships, the USS Kearsarge and the USS Oak Hill, already in the region in response to Hurricane Irma, and after maneuvering to avoid Maria they sailed to Puerto Rico with a complement of Marines and sailors aboard. The Coast Guard had at least nine ships off the Puerto Rico coast shortly after the storm.\n",
      "\n",
      "The unpredictable path of the storm played a role in the decision to send some ships, notably the USS Iwo Jima and USS New York, to ports on the mainland rather than to Puerto Rico in advance of Maria, the officials said. When pressed, they acknowledged that the ships could have steered clear of the storm while at sea and responded to the storm sooner.\n",
      "\n",
      "As of Monday, there were 10 Army helicopters, 17 Navy and Marine Corps helicopters, and 10 National Guard helicopters involved in the Maria response, with an additional 12 Army Black Hawk helicopters and four MV-22 Osprey arriving soon, the Pentagon said.\n",
      "\n",
      "Lamothe and Achenbach reported from Washington.\n",
      "After: san juan puerto rico thing went bad hurrican maria went bad across entir island suddenli everyth dysfunct includ power grid cellphon tower bank system even disast manag profession charg respond hurrican forc evacu build shelter power storm shift oper convent center improvis maneuv one reason govern struggl meet challeng maria present dark island resid dark no one knew extent happen happen day everyth collaps said h ctor pesquera puerto rico governor director safeti public protect everyth collaps simultan nearli two week maria caus histor catastroph thrust puerto rico humanitarian crisi presid trump tuesday schedul make first visit island sinc storm hit sept 20 trump expect meet gov ricardo rossel repeatedli express appreci feder support washington unclear whether trump encount san juan mayor carmen yul n cruz sharpli critic feder effort say puerto rican die nation bureaucraci stumbl trump tweet attack cruz leadership presid repeatedli said stori highlight slow respons crisi fake news watch aerial view damag guajataca dam puerto rico guajataca dam northwest puerto rico sustain damag hurrican maria prompt author issu evacu order live downstream hector santo guia whitney leam washington post view echo subtl way feder emerg manag agenc administr monday flew island told report saw sign civic vibranc san juan william brock long said manag get cellphon signal 20 minut outsid capit head remot area go road saw numer fuel truck secur saw numer water truck secur said saw lot resili puerto rican saw neighbor help neighbor see anybodi life threaten situat trap mountain puerto rican see help way statutori requir protocol disast manag complex defens depart author send asset see fit case hurrican maria not initi deploy mani ship sailor soldier could defens depart suppos support follow guidanc fema fema turn suppos support local state case territori govern polit sensit enter calcul governor invari want show command control case rossel thursday took pain say govern puerto rico fulli charg maria disast respons last thing polit leader want admit problem beyond control said retir coast guard adm thad allen play critic role feder respons hurrican katrina 2010 oil spill gulf mexico frank unvarnish convers scope problem deal polit hard oper essenti car vega alta pass power line pole down hurrican maria ricardo arduengo afp getti imag even maria puerto rico hobbl along econom amid financi crisi time convuls polit come longer term question whether island rebuild economi stave wholesal flight resid mainland rossel tri steer attent toward broader issu face puerto rico said sunday invit reflect puerto rico current state disadvantag inequ not someth happen month week storm condit happen centuri puerto rico invit reflect realiti even storm hit puerto rico even evid disast unit state half u citizen knew puerto rican u citizen rosel offici not deni govern struggl provid food water medicin fuel wake maria point challeng island 1 000 mile mainland well commun breakdown experienc scale disast becam clear mayor across island arriv san juan sept 23 three day storm meet convent center deliv dire report person u govern not ramp capabl six day pass last tuesday pentagon dispatch armi one star gener island quickli elev command send three star gener anyon hear us help puerto rico mayor describ widespread devast hurrican maria everi day get situat awar said john rabin act administr fema divis overse puerto rico soon recogn need resourc capabl order proverbi bigger boat ask respons slow went silent beat not slow complex way would describ rabin said cite one exampl way respons evolv fema puerto rico emerg manag sent relief suppli 11 locat around island lack commun meant mani peopl not show suppli offici sinc use militari helicopt carri aid rural locat difficulti respond maria reveal uniqu disast resist one size fit approach hurrican harvey exampl creat flood disast houston citi southern texa thousand peopl rescu home often civilian use privat boat isol hurrican maria utuado resid seek help way resid puerto rico municip utuado trap landslid broken road hurrican maria video ashleigh joplin whitney leam zoeann murphi photo michael robinson chavez washington post maria numer coast guard fema urban search rescu team hand arriv quickli soon becam clear peopl need life sustain provis includ water food diesel fuel gener search rescu team senior offici pentagon debat send addit assist first day storm includ deploy 1 000 bed hospit ship usn comfort author decid instead fill request puerto rico govern send coupl 50 bed hospit unit could set shore long visit puerto rico last monday afterward pentagon effort chang next day long appear white hous announc deploy comfort sever u militari offici knowledg puerto rico oper said afterward known ship deploy comfort not yet readi sail militari offici said fill everi request receiv time fashion navi two amphibi combat ship uss kearsarg uss oak hill alreadi region respons hurrican irma maneuv avoid maria sail puerto rico complement marin sailor aboard coast guard least nine ship puerto rico coast shortli storm unpredict path storm play role decis send ship notabl uss iwo jima uss new york port mainland rather puerto rico advanc maria offici said press acknowledg ship could steer clear storm sea respond storm sooner monday 10 armi helicopt 17 navi marin corp helicopt 10 nation guard helicopt involv maria respons addit 12 armi black hawk helicopt four mv 22 osprey arriv soon pentagon said lamoth achenbach report washington\n"
     ]
    }
   ],
   "source": [
    "X_preproc = [preprocessing(i) for i in X]\n",
    "\n",
    "print('Before: {}'.format(X[0]))\n",
    "print('After: {}'.format(X_preproc[0]))"
   ]
  },
  {
   "cell_type": "code",
   "execution_count": 22,
   "id": "545fd79a",
   "metadata": {},
   "outputs": [],
   "source": [
    "cv = CountVectorizer()\n",
    "X_cv = cv.fit_transform(X)"
   ]
  },
  {
   "cell_type": "code",
   "execution_count": 23,
   "id": "fea3539f",
   "metadata": {},
   "outputs": [
    {
     "ename": "AttributeError",
     "evalue": "'CountVectorizer' object has no attribute 'get_feature_names_out'",
     "output_type": "error",
     "traceback": [
      "\u001b[0;31m---------------------------------------------------------------------------\u001b[0m",
      "\u001b[0;31mAttributeError\u001b[0m                            Traceback (most recent call last)",
      "\u001b[0;32m/tmp/ipykernel_179/695142718.py\u001b[0m in \u001b[0;36m<module>\u001b[0;34m\u001b[0m\n\u001b[0;32m----> 1\u001b[0;31m \u001b[0mcv\u001b[0m\u001b[0;34m.\u001b[0m\u001b[0mget_feature_names_out\u001b[0m\u001b[0;34m(\u001b[0m\u001b[0;34m)\u001b[0m\u001b[0;34m\u001b[0m\u001b[0;34m\u001b[0m\u001b[0m\n\u001b[0m",
      "\u001b[0;31mAttributeError\u001b[0m: 'CountVectorizer' object has no attribute 'get_feature_names_out'"
     ]
    }
   ],
   "source": [
    "cv.get_feature_names_out()"
   ]
  },
  {
   "cell_type": "code",
   "execution_count": 21,
   "id": "3a8f5993",
   "metadata": {},
   "outputs": [
    {
     "name": "stdout",
     "output_type": "stream",
     "text": [
      "[[2 0 0 ... 0 1 0]\n",
      " [1 0 0 ... 0 0 0]\n",
      " [0 1 1 ... 0 0 0]\n",
      " ...\n",
      " [0 0 0 ... 0 0 0]\n",
      " [0 0 0 ... 0 0 0]\n",
      " [0 0 0 ... 0 0 1]]\n"
     ]
    }
   ],
   "source": [
    "print(X_cv.toarray())"
   ]
  },
  {
   "cell_type": "code",
   "execution_count": null,
   "id": "3c0e4cea",
   "metadata": {},
   "outputs": [],
   "source": []
  }
 ],
 "metadata": {
  "kernelspec": {
   "display_name": "Python 3 (clean)",
   "language": "python",
   "name": "python3_clean"
  },
  "language_info": {
   "codemirror_mode": {
    "name": "ipython",
    "version": 3
   },
   "file_extension": ".py",
   "mimetype": "text/x-python",
   "name": "python",
   "nbconvert_exporter": "python",
   "pygments_lexer": "ipython3",
   "version": "3.9.5"
  }
 },
 "nbformat": 4,
 "nbformat_minor": 5
}
